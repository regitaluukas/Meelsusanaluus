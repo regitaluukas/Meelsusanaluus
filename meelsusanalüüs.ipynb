{
  "nbformat": 4,
  "nbformat_minor": 0,
  "metadata": {
    "colab": {
      "provenance": []
    },
    "kernelspec": {
      "name": "python3",
      "display_name": "Python 3"
    },
    "language_info": {
      "name": "python"
    }
  },
  "cells": [
    {
      "cell_type": "markdown",
      "source": [
        "# Tartu Ülikooli õppeainete tagasiside meelsusanalüüs\n",
        "## Autor: Regita Luukas\n",
        "\n",
        "See kood on valminud 2023. aastal tehtud Tartu Ülikooli Informaatika õppekava bakalaureuse töö raames teemal \"Tartu Ülikooli õppeainete tagasiside meelsusanalüüs\". \n"
      ],
      "metadata": {
        "id": "Riaw1A62ReuZ"
      }
    },
    {
      "cell_type": "markdown",
      "source": [
        "### 1. Andmete ettevalmistus"
      ],
      "metadata": {
        "id": "xpJAfbCwSTHt"
      }
    },
    {
      "cell_type": "code",
      "execution_count": null,
      "metadata": {
        "id": "qKddmolUQddB"
      },
      "outputs": [],
      "source": [
        "# Ühendamine Google Colabi jaoks\n",
        "from google.colab import drive\n",
        "drive.mount('/content/drive')\n",
        "\n",
        "import os\n",
        "os.chdir(\"/content/drive/My Drive/Colab Notebooks/\")"
      ]
    },
    {
      "cell_type": "code",
      "source": [
        "# Teekide import\n",
        "!pip install estnltk==1.7.1\n",
        "import pandas as pd\n",
        "import numpy as np\n",
        "import estnltk\n",
        "from estnltk import Text\n",
        "from estnltk.taggers import ConllMorphTagger\n",
        "from estnltk.taggers import MaltParserTagger"
      ],
      "metadata": {
        "id": "M2426MLYQk4G"
      },
      "execution_count": null,
      "outputs": []
    },
    {
      "cell_type": "code",
      "source": [
        "#tagasiside faili import, kommentaari sisaldava lahtri pealkiri peab algoritmi jaoks olema 'tagasiside'\n",
        "df = pd.read_excel(\"tagasiside_fail.xlsx\")"
      ],
      "metadata": {
        "id": "KC9uh_bERB6S"
      },
      "execution_count": null,
      "outputs": []
    },
    {
      "cell_type": "code",
      "source": [
        "#valentsileksikoni import\n",
        "df2 = pd.read_excel(\"valentsileksikon.xlsx\", header=None)\n",
        "leksikon = df2.rename({0: 'valjend', 1: 'hinnang'}, axis=1)"
      ],
      "metadata": {
        "id": "3OUl7CkhRIJG"
      },
      "execution_count": 4,
      "outputs": []
    },
    {
      "cell_type": "markdown",
      "source": [
        "### 2. Soovituste ja kirjelduste eraldus"
      ],
      "metadata": {
        "id": "DIAaYH6fSRO5"
      }
    },
    {
      "cell_type": "code",
      "source": [
        "tulemus = np.empty(len(df), dtype=object) #Fikseeritud suurusega (korpuse pikkusega) järjend tulemuste hoidmiseks\n",
        "\n",
        "for i in range(len(df)):\n",
        "#vaadeldakse ükshaaval läbi kõik andmeread\n",
        "  kommentaar = df[\"tagasiside\"][i]\n",
        "  tekst = Text(kommentaar).tag_layer(['words', 'morph_analysis_est']) #morfoloogiline analüüs\n",
        "  if kommentaar.lower() == \"edu!\" or kommentaar.lower() == \"edu\" or kommentaar.lower() == \"edu.\":\n",
        "  #kui kommentaar = \"edu\", siis loetakse soovituseks\n",
        "    tulemus[i] = (\"soovitus\")\n",
        "    continue\n",
        "  for lemmad in tekst.lemma:\n",
        "  #kui sisaldab sõna \"soovitama\" või \"soovima\", siis loetakse soovituseks\n",
        "    if \"soovitama\" in lemmad or \"soovima\" in lemmad:\n",
        "      tulemus[i] = (\"soovitus\")\n",
        "      break\n",
        "  if tulemus[i] == (\"soovitus\"):\n",
        "    continue\n",
        "  vormid = list(tekst.morph_analysis_est.vormi_nimetus) #kõigi sõnade sõnavormide list\n",
        "  for j in range(len(vormid)):\n",
        "    if \"käskiv\" in vormid[j][0]:\n",
        "    #kui leidub vähemalt üks sõna käskivas kõneviisis, siis on soovitus\n",
        "      tulemus[i] = (\"soovitus\")\n",
        "      break\n",
        "  if tulemus[i] == (\"soovitus\"):\n",
        "    continue\n",
        "  tulemus[i] = (\"kirjeldav\") #kõigil muudel juhtudel on tegemist kirjeldusega"
      ],
      "metadata": {
        "id": "Pq_21QPlRanf"
      },
      "execution_count": 9,
      "outputs": []
    },
    {
      "cell_type": "markdown",
      "source": [
        "### 3. Meelsusanalüüs"
      ],
      "metadata": {
        "id": "VmANwSo6SqTx"
      }
    },
    {
      "cell_type": "code",
      "source": [
        "#Fikseeritud suurusega (korpuse pikkusega) järjend tulemuste hoidmiseks\n",
        "meelsused = np.empty(len(df), dtype=object)\n",
        "loeng = np.empty(len(df), dtype=object)\n",
        "eksam = np.empty(len(df), dtype=object)\n",
        "õppejõud = np.empty(len(df), dtype=object)\n",
        "\n",
        "for i in range(len(df)):\n",
        "#vaadatakse ükshaaval läbi kõik andmeread\n",
        "    kommentaar = df[\"tagasiside\"][i]\n",
        "    tekst = Text(kommentaar).tag_layer(['words', 'morph_analysis_est'])\n",
        "    #morfoloogiline analüüs, sõnestamine\n",
        "    skoor = 0 #skoori arvutamiseks iga kommentaari kohta\n",
        "    eitus = 0 #indeks, kust alates otsitake eitust\n",
        "    arvutus = False #kas lausest on leitud meelsussõna\n",
        "    for k in range(len(tekst.words)): \n",
        "    #vaadatakse ükshaaval läbi kõik kommentaari sõned\n",
        "        if len(tekst.words[k].text) < 2: #sõnede pikkuste kontroll\n",
        "            continue\n",
        "        for j in range(len(leksikon)):\n",
        "        #vaadatakse läbi kõik valentsisõnastiku sõnad\n",
        "            if tekst.words[k].text.lower() == leksikon[\"valjend\"][j]:\n",
        "            #korpuse sõne võrdlus valentsisõnastiku sõnaga\n",
        "                ei = False #kas sõna kohta käib eitus\n",
        "                eituseTekst = [word.lower() for word in tekst.words[eitus:min(k+2,len(tekst.words))].text]\n",
        "                #vahemik millest eitust otsitakse\n",
        "                if \"ei\" in eituseTekst or \"mitte\" in eituseTekst or \"pole\" in eituseTekst or \"polnud\" in eituseTekst or \"ega\" in eituseTekst:\n",
        "                #eituse otsimine\n",
        "                    skoor -= leksikon[\"hinnang\"][j]#eitus, lahutatakse väärtus\n",
        "                    eitus = k\n",
        "                    ei = True\n",
        "                else:\n",
        "                    skoor += leksikon[\"hinnang\"][j] #eitust pole, liidetakse\n",
        "                    arvutus = True\n",
        "\n",
        "                #süntaksipuu loomine\n",
        "                text = Text(kommentaar).tag_layer()\n",
        "                conll_tagger = ConllMorphTagger(output_layer='conll_morph',morph_extended_layer='morph_analysis',no_visl=True)\n",
        "                conll_tagger.tag(text)\n",
        "                maltparser_tagger = MaltParserTagger(input_type='morph_analysis', version='conllu')\n",
        "                maltparser_tagger.tag(text)\n",
        "                puu = text.maltparser_syntax\n",
        "                #tunnuste otsimine süntaksipuu otsestest naabritest\n",
        "                if puu[k].parent_span:\n",
        "                    if puu[k].parent_span.lemma == \"loeng\":\n",
        "                        if not loeng[i]:\n",
        "                            loeng[i] = []\n",
        "                        if ei:\n",
        "                            loeng[i].append(\"-\" + puu[k].lemma)\n",
        "                        else:\n",
        "                            loeng[i].append(puu[k].lemma)\n",
        "                    elif puu[k].parent_span.lemma == \"eksam\":\n",
        "                        if not eksam[i]:\n",
        "                            eksam[i] = []\n",
        "                        if ei:\n",
        "                            eksam[i].append(\"-\" + puu[k].lemma)\n",
        "                        else:\n",
        "                            eksam[i].append(puu[k].lemma)\n",
        "                    elif puu[k].parent_span.lemma == \"õppejõud\":\n",
        "                        if not õppejõud[i]:\n",
        "                            õppejõud[i] = []\n",
        "                        if ei:\n",
        "                            õppejõud[i].append(\"-\" + puu[k].lemma)\n",
        "                        else:\n",
        "                            õppejõud[i].append(puu[k].lemma)\n",
        "                for child in puu[k].children:\n",
        "                    if child.lemma == \"loeng\":\n",
        "                        if not loeng[i]:\n",
        "                            loeng[i] = []\n",
        "                        if ei:\n",
        "                            loeng[i].append(\"-\" + puu[k].lemma)\n",
        "                        else:\n",
        "                            loeng[i].append(puu[k].lemma)\n",
        "                    if child.lemma == \"eksam\":\n",
        "                        if not eksam[i]:\n",
        "                            eksam[i] = []\n",
        "                        if ei:\n",
        "                            eksam[i].append(\"-\" + puu[k].lemma)\n",
        "                        else:\n",
        "                            eksam[i].append(puu[k].lemma)\n",
        "                    if child.lemma == \"õppejõud\":\n",
        "                        if not õppejõud[i]:\n",
        "                            õppejõud[i] = []\n",
        "                        if ei:\n",
        "                            õppejõud[i].append(\"-\" + puu[k].lemma)\n",
        "                        else:\n",
        "                            õppejõud[i].append(puu[k].lemma)\n",
        "                break                    \n",
        "    #meelsuse lõplik määramine\n",
        "    if skoor > 0:\n",
        "        meelsused[i] = \"positiivne\"\n",
        "    elif skoor < 0:\n",
        "        meelsused[i] = \"negatiivne\"\n",
        "    elif skoor == 0 and arvutus == True:\n",
        "        meelsused[i] = \"vastuoluline\"\n",
        "    else:\n",
        "        meelsused[i] = \"neutraalne\""
      ],
      "metadata": {
        "id": "AitKty57ShdW"
      },
      "execution_count": 8,
      "outputs": []
    }
  ]
}